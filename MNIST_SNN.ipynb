{
 "cells": [
  {
   "cell_type": "code",
   "execution_count": 2,
   "metadata": {},
   "outputs": [],
   "source": [
    "# imports\n",
    "import snntorch as snn\n",
    "from snntorch import spikeplot as splt\n",
    "from snntorch import spikegen\n",
    "\n",
    "import torch\n",
    "import torch.nn as nn\n",
    "from torch.utils.data import DataLoader\n",
    "from torchvision import datasets, transforms\n",
    "\n",
    "import matplotlib.pyplot as plt\n",
    "import numpy as np\n",
    "import itertools"
   ]
  },
  {
   "cell_type": "code",
   "execution_count": 3,
   "metadata": {},
   "outputs": [
    {
     "name": "stderr",
     "output_type": "stream",
     "text": [
      "1.0%"
     ]
    },
    {
     "name": "stdout",
     "output_type": "stream",
     "text": [
      "Downloading http://yann.lecun.com/exdb/mnist/train-images-idx3-ubyte.gz\n",
      "Downloading http://yann.lecun.com/exdb/mnist/train-images-idx3-ubyte.gz to /tmp/data/mnist/MNIST/raw/train-images-idx3-ubyte.gz\n"
     ]
    },
    {
     "name": "stderr",
     "output_type": "stream",
     "text": [
      "100.0%\n"
     ]
    },
    {
     "name": "stdout",
     "output_type": "stream",
     "text": [
      "Extracting /tmp/data/mnist/MNIST/raw/train-images-idx3-ubyte.gz to /tmp/data/mnist/MNIST/raw\n",
      "\n",
      "Downloading http://yann.lecun.com/exdb/mnist/train-labels-idx1-ubyte.gz\n"
     ]
    },
    {
     "name": "stderr",
     "output_type": "stream",
     "text": [
      "100.0%\n",
      "21.9%"
     ]
    },
    {
     "name": "stdout",
     "output_type": "stream",
     "text": [
      "Downloading http://yann.lecun.com/exdb/mnist/train-labels-idx1-ubyte.gz to /tmp/data/mnist/MNIST/raw/train-labels-idx1-ubyte.gz\n",
      "Extracting /tmp/data/mnist/MNIST/raw/train-labels-idx1-ubyte.gz to /tmp/data/mnist/MNIST/raw\n",
      "\n",
      "Downloading http://yann.lecun.com/exdb/mnist/t10k-images-idx3-ubyte.gz\n",
      "Downloading http://yann.lecun.com/exdb/mnist/t10k-images-idx3-ubyte.gz to /tmp/data/mnist/MNIST/raw/t10k-images-idx3-ubyte.gz\n"
     ]
    },
    {
     "name": "stderr",
     "output_type": "stream",
     "text": [
      "100.0%\n",
      "100.0%\n"
     ]
    },
    {
     "name": "stdout",
     "output_type": "stream",
     "text": [
      "Extracting /tmp/data/mnist/MNIST/raw/t10k-images-idx3-ubyte.gz to /tmp/data/mnist/MNIST/raw\n",
      "\n",
      "Downloading http://yann.lecun.com/exdb/mnist/t10k-labels-idx1-ubyte.gz\n",
      "Downloading http://yann.lecun.com/exdb/mnist/t10k-labels-idx1-ubyte.gz to /tmp/data/mnist/MNIST/raw/t10k-labels-idx1-ubyte.gz\n",
      "Extracting /tmp/data/mnist/MNIST/raw/t10k-labels-idx1-ubyte.gz to /tmp/data/mnist/MNIST/raw\n",
      "\n"
     ]
    }
   ],
   "source": [
    "# dataloader arguments\n",
    "batch_size = 128\n",
    "data_path='/tmp/data/mnist'\n",
    "\n",
    "dtype = torch.float\n",
    "device = torch.device(\"cuda\") if torch.cuda.is_available() else torch.device(\"mps\") if torch.backends.mps.is_available() else torch.device(\"cpu\")\n",
    "\n",
    "# Define a transform\n",
    "transform = transforms.Compose([\n",
    "            transforms.Resize((28, 28)),\n",
    "            transforms.Grayscale(),\n",
    "            transforms.ToTensor(),\n",
    "            transforms.Normalize((0,), (1,))])\n",
    "\n",
    "mnist_train = datasets.MNIST(data_path, train=True, download=True, transform=transform)\n",
    "mnist_test = datasets.MNIST(data_path, train=False, download=True, transform=transform)\n",
    "\n",
    "# Create DataLoaders\n",
    "train_loader = DataLoader(mnist_train, batch_size=batch_size, shuffle=True, drop_last=True)\n",
    "test_loader = DataLoader(mnist_test, batch_size=batch_size, shuffle=True, drop_last=True)"
   ]
  },
  {
   "cell_type": "code",
   "execution_count": 4,
   "metadata": {},
   "outputs": [],
   "source": [
    "# Network Architecture\n",
    "num_inputs = 28*28\n",
    "num_hidden = 1000\n",
    "num_outputs = 10\n",
    "\n",
    "# Temporal Dynamics\n",
    "num_steps = 25\n",
    "beta = 0.70"
   ]
  },
  {
   "cell_type": "code",
   "execution_count": 5,
   "metadata": {},
   "outputs": [],
   "source": [
    "# Define Network\n",
    "class Net(nn.Module):\n",
    "    def __init__(self):\n",
    "        super().__init__()\n",
    "\n",
    "        # Initialize layers\n",
    "        self.fc1 = nn.Linear(num_inputs, num_hidden)\n",
    "        self.lif1 = snn.Leaky(beta=beta)\n",
    "        self.fc2 = nn.Linear(num_hidden, num_outputs)\n",
    "        self.lif2 = snn.Leaky(beta=beta)\n",
    "\n",
    "    def forward(self, x):\n",
    "\n",
    "        # Initialize hidden states at t=0\n",
    "        mem1 = self.lif1.init_leaky()\n",
    "        mem2 = self.lif2.init_leaky()\n",
    "\n",
    "        # Record the final layer\n",
    "        spk2_rec = []\n",
    "        mem2_rec = []\n",
    "\n",
    "        for step in range(num_steps):\n",
    "            cur1 = self.fc1(x)\n",
    "            spk1, mem1 = self.lif1(cur1, mem1)\n",
    "            cur2 = self.fc2(spk1)\n",
    "            spk2, mem2 = self.lif2(cur2, mem2)\n",
    "            spk2_rec.append(spk2)\n",
    "            mem2_rec.append(mem2)\n",
    "\n",
    "        return torch.stack(spk2_rec, dim=0), torch.stack(mem2_rec, dim=0)\n",
    "\n",
    "# Load the network onto CUDA if available\n",
    "net = Net().to(device)"
   ]
  },
  {
   "cell_type": "code",
   "execution_count": 22,
   "metadata": {},
   "outputs": [],
   "source": [
    "# pass data into the network, sum the spikes over time\n",
    "# and compare the neuron with the highest number of spikes\n",
    "# with the target\n",
    "\n",
    "def print_batch_accuracy(data, targets, train=False):\n",
    "    output, _ = net(data.view(batch_size, -1))\n",
    "    _, idx = output.sum(dim=0).max(1)\n",
    "    acc = np.mean((targets == idx).detach().cpu().numpy())\n",
    "\n",
    "    if train:\n",
    "        print(f\"Train set accuracy for a single minibatch: {acc*100:.2f}%\")\n",
    "    else:\n",
    "        print(f\"Test set accuracy for a single minibatch: {acc*100:.2f}%\")\n",
    "\n",
    "def train_printer(\n",
    "    data, targets, epoch,\n",
    "    counter, iter_counter,\n",
    "        loss_hist, test_loss_hist, test_data, test_targets):\n",
    "    print(f\"Epoch {epoch}, Iteration {iter_counter}\")\n",
    "    print(f\"Train Set Loss: {loss_hist[counter]:.2f}\")\n",
    "    print(f\"Test Set Loss: {test_loss_hist[counter]:.2f}\")\n",
    "    print_batch_accuracy(data, targets, train=True)\n",
    "    print_batch_accuracy(test_data, test_targets, train=False)\n",
    "    print(\"\\n\")"
   ]
  },
  {
   "cell_type": "code",
   "execution_count": 7,
   "metadata": {},
   "outputs": [],
   "source": [
    "loss = nn.CrossEntropyLoss()\n",
    "optimizer = torch.optim.Adam(net.parameters(), lr=5e-4, betas=(0.9, 0.999))"
   ]
  },
  {
   "cell_type": "code",
   "execution_count": 8,
   "metadata": {},
   "outputs": [
    {
     "name": "stdout",
     "output_type": "stream",
     "text": [
      "torch.Size([25, 128, 10])\n"
     ]
    }
   ],
   "source": [
    "data, targets = next(iter(train_loader))\n",
    "data = data.to(device)\n",
    "targets = targets.to(device)\n",
    "\n",
    "spk_rec, mem_rec = net(data.view(batch_size, -1))\n",
    "print(mem_rec.size())"
   ]
  },
  {
   "cell_type": "code",
   "execution_count": 9,
   "metadata": {},
   "outputs": [
    {
     "name": "stdout",
     "output_type": "stream",
     "text": [
      "Training loss: 57.583\n"
     ]
    }
   ],
   "source": [
    "# initialize the total loss value\n",
    "loss_val = torch.zeros((1), dtype=dtype, device=device)\n",
    "\n",
    "# sum loss at every step\n",
    "for step in range(num_steps):\n",
    "  loss_val += loss(mem_rec[step], targets)\n",
    "\n",
    "print(f\"Training loss: {loss_val.item():.3f}\")"
   ]
  },
  {
   "cell_type": "code",
   "execution_count": 10,
   "metadata": {},
   "outputs": [
    {
     "name": "stdout",
     "output_type": "stream",
     "text": [
      "Train set accuracy for a single minibatch: 12.50%\n"
     ]
    }
   ],
   "source": [
    "print_batch_accuracy(data, targets, train=True)"
   ]
  },
  {
   "cell_type": "code",
   "execution_count": 11,
   "metadata": {},
   "outputs": [],
   "source": [
    "# clear previously stored gradients\n",
    "optimizer.zero_grad()\n",
    "\n",
    "# calculate the gradients\n",
    "loss_val.backward()\n",
    "\n",
    "# weight update\n",
    "optimizer.step()"
   ]
  },
  {
   "cell_type": "code",
   "execution_count": 12,
   "metadata": {},
   "outputs": [
    {
     "name": "stdout",
     "output_type": "stream",
     "text": [
      "Training loss: 54.388\n",
      "Train set accuracy for a single minibatch: 12.50%\n"
     ]
    }
   ],
   "source": [
    "# calculate new network outputs using the same data\n",
    "spk_rec, mem_rec = net(data.view(batch_size, -1))\n",
    "\n",
    "# initialize the total loss value\n",
    "loss_val = torch.zeros((1), dtype=dtype, device=device)\n",
    "\n",
    "# sum loss at every step\n",
    "for step in range(num_steps):\n",
    "  loss_val += loss(mem_rec[step], targets)\n",
    "\n",
    "print(f\"Training loss: {loss_val.item():.3f}\")\n",
    "print_batch_accuracy(data, targets, train=True)"
   ]
  },
  {
   "cell_type": "code",
   "execution_count": 13,
   "metadata": {},
   "outputs": [
    {
     "name": "stdout",
     "output_type": "stream",
     "text": [
      "Epoch 0, Iteration 0\n",
      "Train Set Loss: 55.98\n",
      "Test Set Loss: 54.16\n",
      "Train set accuracy for a single minibatch: 10.94%\n",
      "Test set accuracy for a single minibatch: 7.81%\n",
      "\n",
      "\n",
      "Epoch 0, Iteration 50\n",
      "Train Set Loss: 11.33\n",
      "Test Set Loss: 8.87\n",
      "Train set accuracy for a single minibatch: 83.59%\n",
      "Test set accuracy for a single minibatch: 90.62%\n",
      "\n",
      "\n",
      "Epoch 0, Iteration 100\n",
      "Train Set Loss: 9.77\n",
      "Test Set Loss: 8.78\n",
      "Train set accuracy for a single minibatch: 87.50%\n",
      "Test set accuracy for a single minibatch: 88.28%\n",
      "\n",
      "\n",
      "Epoch 0, Iteration 150\n",
      "Train Set Loss: 6.00\n",
      "Test Set Loss: 7.09\n",
      "Train set accuracy for a single minibatch: 89.06%\n",
      "Test set accuracy for a single minibatch: 86.72%\n",
      "\n",
      "\n",
      "Epoch 0, Iteration 200\n",
      "Train Set Loss: 6.02\n",
      "Test Set Loss: 4.91\n",
      "Train set accuracy for a single minibatch: 89.84%\n",
      "Test set accuracy for a single minibatch: 94.53%\n",
      "\n",
      "\n",
      "Epoch 0, Iteration 250\n",
      "Train Set Loss: 6.26\n",
      "Test Set Loss: 8.73\n",
      "Train set accuracy for a single minibatch: 95.31%\n",
      "Test set accuracy for a single minibatch: 89.06%\n",
      "\n",
      "\n",
      "Epoch 0, Iteration 300\n",
      "Train Set Loss: 6.11\n",
      "Test Set Loss: 5.80\n",
      "Train set accuracy for a single minibatch: 94.53%\n",
      "Test set accuracy for a single minibatch: 91.41%\n",
      "\n",
      "\n",
      "Epoch 0, Iteration 350\n",
      "Train Set Loss: 6.65\n",
      "Test Set Loss: 5.64\n",
      "Train set accuracy for a single minibatch: 91.41%\n",
      "Test set accuracy for a single minibatch: 90.62%\n",
      "\n",
      "\n",
      "Epoch 0, Iteration 400\n",
      "Train Set Loss: 5.73\n",
      "Test Set Loss: 5.34\n",
      "Train set accuracy for a single minibatch: 95.31%\n",
      "Test set accuracy for a single minibatch: 96.09%\n",
      "\n",
      "\n",
      "Epoch 0, Iteration 450\n",
      "Train Set Loss: 4.90\n",
      "Test Set Loss: 4.49\n",
      "Train set accuracy for a single minibatch: 94.53%\n",
      "Test set accuracy for a single minibatch: 90.62%\n",
      "\n",
      "\n"
     ]
    }
   ],
   "source": [
    "# Train\n",
    "\n",
    "num_epochs = 1\n",
    "loss_hist = []\n",
    "test_loss_hist = []\n",
    "counter = 0\n",
    "\n",
    "# Outer training loop\n",
    "for epoch in range(num_epochs):\n",
    "    iter_counter = 0\n",
    "    train_batch = iter(train_loader)\n",
    "\n",
    "    # Minibatch training loop\n",
    "    for data, targets in train_batch:\n",
    "        data = data.to(device)\n",
    "        targets = targets.to(device)\n",
    "\n",
    "        # forward pass\n",
    "        net.train()\n",
    "        spk_rec, mem_rec = net(data.view(batch_size, -1))\n",
    "\n",
    "        # initialize the loss & sum over time\n",
    "        loss_val = torch.zeros((1), dtype=dtype, device=device)\n",
    "        for step in range(num_steps):\n",
    "            loss_val += loss(mem_rec[step], targets)\n",
    "\n",
    "        # Gradient calculation + weight update\n",
    "        optimizer.zero_grad()\n",
    "        loss_val.backward()\n",
    "        optimizer.step()\n",
    "\n",
    "        # Store loss history for future plotting\n",
    "        loss_hist.append(loss_val.item())\n",
    "\n",
    "        # Test set\n",
    "        with torch.no_grad():\n",
    "            net.eval()\n",
    "            test_data, test_targets = next(iter(test_loader))\n",
    "            test_data = test_data.to(device)\n",
    "            test_targets = test_targets.to(device)\n",
    "\n",
    "            # Test set forward pass\n",
    "            test_spk, test_mem = net(test_data.view(batch_size, -1))\n",
    "\n",
    "            # Test set loss\n",
    "            test_loss = torch.zeros((1), dtype=dtype, device=device)\n",
    "            for step in range(num_steps):\n",
    "                test_loss += loss(test_mem[step], test_targets)\n",
    "            test_loss_hist.append(test_loss.item())\n",
    "\n",
    "            # Print train/test loss/accuracy\n",
    "            if counter % 50 == 0:\n",
    "                train_printer(\n",
    "                    data, targets, epoch,\n",
    "                    counter, iter_counter,\n",
    "                    loss_hist, test_loss_hist,\n",
    "                    test_data, test_targets)\n",
    "            counter += 1\n",
    "            iter_counter +=1"
   ]
  },
  {
   "cell_type": "code",
   "execution_count": 14,
   "metadata": {},
   "outputs": [
    {
     "data": {
      "image/png": "[encoded data removed]",
      "text/plain": [
       "<Figure size 1000x500 with 1 Axes>"
      ]
     },
     "metadata": {},
     "output_type": "display_data"
    }
   ],
   "source": [
    "# Plot Loss\n",
    "fig = plt.figure(facecolor=\"w\", figsize=(10, 5))\n",
    "plt.plot(loss_hist)\n",
    "plt.plot(test_loss_hist)\n",
    "plt.title(\"Loss Curves\")\n",
    "plt.legend([\"Train Loss\", \"Test Loss\"])\n",
    "plt.xlabel(\"Iteration\")\n",
    "plt.ylabel(\"Loss\")\n",
    "plt.show()"
   ]
  },
  {
   "cell_type": "code",
   "execution_count": 21,
   "metadata": {},
   "outputs": [
    {
     "name": "stdout",
     "output_type": "stream",
     "text": [
      "Total correctly classified test set images: 7327/10000\n",
      "Test Set Accuracy: 73.27%\n"
     ]
    }
   ],
   "source": [
    "# Test Accuracy\n",
    "\n",
    "total = 0\n",
    "correct = 0\n",
    "\n",
    "# drop_last switched to False to keep all samples\n",
    "test_loader = DataLoader(mnist_test, batch_size=batch_size, shuffle=True, drop_last=False)\n",
    "\n",
    "with torch.no_grad():\n",
    "  net.eval()\n",
    "  for data, targets in test_loader:\n",
    "    data = data.to(device)\n",
    "    targets = targets.to(device)\n",
    "    \n",
    "    # forward pass\n",
    "    test_spk, _ = net(data.view(data.size(0), -1))\n",
    "\n",
    "    # calculate total accuracy\n",
    "    _, predicted = test_spk.sum(dim=0).max(1)\n",
    "    total += targets.size(0)\n",
    "    correct += (predicted == targets).sum().item()\n",
    "\n",
    "print(f\"Total correctly classified test set images: {correct}/{total}\")\n",
    "print(f\"Test Set Accuracy: {100 * correct / total:.2f}%\")"
   ]
  },
  {
   "cell_type": "code",
   "execution_count": 16,
   "metadata": {},
   "outputs": [],
   "source": [
    "torch.save(net.state_dict(), 'MNIST_SNN.pth')"
   ]
  },
  {
   "cell_type": "code",
   "execution_count": 17,
   "metadata": {},
   "outputs": [
    {
     "name": "stdout",
     "output_type": "stream",
     "text": [
      "Net Parameters:\n",
      "Net(\n",
      "  (fc1): Linear(in_features=784, out_features=1000, bias=True)\n",
      "  (lif1): Leaky()\n",
      "  (fc2): Linear(in_features=1000, out_features=10, bias=True)\n",
      "  (lif2): Leaky()\n",
      ")\n",
      "Net First Layer Parameters:\n",
      "Linear(in_features=784, out_features=1000, bias=True)\n"
     ]
    }
   ],
   "source": [
    "print(f\"Net Parameters:\")\n",
    "print(net)\n",
    "\n",
    "print(f\"Net First Layer Parameters:\")\n",
    "print(net.fc1)"
   ]
  },
  {
   "cell_type": "code",
   "execution_count": 18,
   "metadata": {},
   "outputs": [
    {
     "name": "stdout",
     "output_type": "stream",
     "text": [
      "Initial weights: Parameter containing:\n",
      "tensor([[-1.4585e-02,  1.5762e-02,  3.5615e-02,  ...,  2.9507e-02,\n",
      "          2.1614e-02,  3.4306e-02],\n",
      "        [ 9.5966e-03,  3.4969e-02, -6.1597e-05,  ...,  2.9583e-02,\n",
      "          2.8644e-02, -2.7648e-04],\n",
      "        [ 2.2716e-02,  1.1475e-02, -2.4835e-02,  ...,  2.0911e-02,\n",
      "          3.4775e-02, -2.7045e-03],\n",
      "        ...,\n",
      "        [-2.9162e-02,  3.1012e-02,  2.6893e-02,  ...,  9.8960e-03,\n",
      "         -1.4746e-02, -3.2630e-02],\n",
      "        [-9.4918e-03, -3.4788e-02, -2.5273e-02,  ...,  2.7332e-03,\n",
      "          2.5428e-02,  3.1559e-02],\n",
      "        [-1.8343e-02, -2.0364e-02, -6.4280e-03,  ...,  7.7785e-03,\n",
      "         -4.8486e-03,  1.1734e-02]], device='cuda:0', requires_grad=True)\n",
      "Modified weights: Parameter containing:\n",
      "tensor([[-0.0146,  0.0158,  0.0356,  ...,  0.0295,  0.0216,  0.0343],\n",
      "        [ 0.1406, -1.1144,  0.5762,  ..., -0.0492,  0.6545,  1.2057],\n",
      "        [ 0.0227,  0.0115, -0.0248,  ...,  0.0209,  0.0348, -0.0027],\n",
      "        ...,\n",
      "        [-0.0292,  0.0310,  0.0269,  ...,  0.0099, -0.0147, -0.0326],\n",
      "        [-0.0095, -0.0348, -0.0253,  ...,  0.0027,  0.0254,  0.0316],\n",
      "        [-0.0183, -0.0204, -0.0064,  ...,  0.0078, -0.0048,  0.0117]],\n",
      "       device='cuda:0', requires_grad=True)\n",
      "Size of Weights:  torch.Size([1000, 784])\n"
     ]
    }
   ],
   "source": [
    "# Print the initial weights\n",
    "print(\"Initial weights:\", net.fc1.weight)\n",
    "\n",
    "# Access the parameters\n",
    "parameters = net.parameters()\n",
    "\n",
    "# Assuming you want to modify the weights of the first neuron in the linear layer\n",
    "neuron_index = 1    # 0 to 999\n",
    "for param in parameters:\n",
    "    if param is net.fc1.weight:\n",
    "        # Modify the weights of the first neuron\n",
    "        new_weights = torch.randn(param.size(1))  # Example: Initialize new weights randomly\n",
    "        param.data[neuron_index] = new_weights\n",
    "\n",
    "# Print the modified weights\n",
    "print(\"Modified weights:\", net.fc1.weight)\n",
    "print(\"Size of Weights: \", net.fc1.weight.size())"
   ]
  },
  {
   "cell_type": "code",
   "execution_count": 19,
   "metadata": {},
   "outputs": [
    {
     "name": "stdout",
     "output_type": "stream",
     "text": [
      "Initial weights: Parameter containing:\n",
      "tensor([[ 1.5904e-02, -2.5710e-02, -2.4571e-02,  ..., -3.3143e-02,\n",
      "         -3.6907e-02,  5.1192e-02],\n",
      "        [ 1.4619e-02,  3.8874e-02, -4.8463e-02,  ...,  1.5732e-02,\n",
      "         -6.9368e-05,  1.4603e-02],\n",
      "        [ 4.2795e-02, -2.2732e-03,  5.1285e-03,  ...,  6.1820e-03,\n",
      "          2.9557e-02, -1.0888e-02],\n",
      "        ...,\n",
      "        [ 3.9868e-02, -1.0647e-02,  4.4194e-02,  ..., -5.6889e-02,\n",
      "         -7.1258e-02, -3.6971e-02],\n",
      "        [ 1.5356e-02,  2.0885e-02,  3.4178e-02,  ..., -3.2038e-02,\n",
      "          2.5783e-02, -5.0890e-02],\n",
      "        [-1.6336e-02, -2.2319e-02,  3.4945e-02,  ...,  1.3507e-02,\n",
      "         -1.0259e-02,  3.4108e-02]], device='cuda:0', requires_grad=True)\n",
      "Modified weights: Parameter containing:\n",
      "tensor([[ 1.5904e-02, -2.5710e-02, -2.4571e-02,  ..., -3.3143e-02,\n",
      "         -3.6907e-02,  5.1192e-02],\n",
      "        [ 1.4619e-02,  3.8874e-02, -4.8463e-02,  ...,  1.5732e-02,\n",
      "         -6.9368e-05,  1.4603e-02],\n",
      "        [ 4.2795e-02, -2.2732e-03,  5.1285e-03,  ...,  6.1820e-03,\n",
      "          2.9557e-02, -1.0888e-02],\n",
      "        ...,\n",
      "        [ 3.9868e-02, -1.0647e-02,  4.4194e-02,  ..., -5.6889e-02,\n",
      "         -7.1258e-02, -3.6971e-02],\n",
      "        [ 1.5356e-02,  2.0885e-02,  3.4178e-02,  ..., -3.2038e-02,\n",
      "          2.5783e-02, -5.0890e-02],\n",
      "        [-1.6336e-02, -2.2319e-02,  3.4945e-02,  ...,  1.3507e-02,\n",
      "         -1.0259e-02,  3.4108e-02]], device='cuda:0', requires_grad=True)\n",
      "Size of Weights:  torch.Size([10, 1000])\n"
     ]
    }
   ],
   "source": [
    "# Print the initial weights\n",
    "print(\"Initial weights:\", net.fc2.weight)\n",
    "\n",
    "# Access the parameters\n",
    "parameters = net.parameters()\n",
    "\n",
    "# Assuming you want to modify the weights of the first neuron in the linear layer\n",
    "neuron_index = 4     # 0 to 9\n",
    "for param in parameters:\n",
    "    if param is net.fc2.weight:\n",
    "        # Modify the weights of the first neuron\n",
    "        new_weights = torch.randn(param.size(1))  # Example: Initialize new weights randomly\n",
    "        param.data[neuron_index] = new_weights\n",
    "\n",
    "# Print the modified weights\n",
    "print(\"Modified weights:\", net.fc2.weight)\n",
    "print(\"Size of Weights: \", net.fc2.weight.size())"
   ]
  },
  {
   "cell_type": "code",
   "execution_count": 20,
   "metadata": {},
   "outputs": [
    {
     "name": "stdout",
     "output_type": "stream",
     "text": [
      "Initial weights: Parameter containing:\n",
      "tensor([[ 0.1908,  0.0296, -0.1393,  0.1240, -0.2524, -0.3078,  0.1666, -0.2525,\n",
      "         -0.2575, -0.0261]], requires_grad=True)\n",
      "Modified weights: Parameter containing:\n",
      "tensor([[-0.1223,  1.2248,  0.3182,  0.4728, -1.8459,  1.6827,  0.3807,  0.0595,\n",
      "          1.2139, -0.9339]], requires_grad=True)\n"
     ]
    }
   ],
   "source": [
    "import torch\n",
    "import torch.nn as nn\n",
    "\n",
    "# Define a simple neural network\n",
    "class SimpleNet(nn.Module):\n",
    "    def __init__(self):\n",
    "        super(SimpleNet, self).__init__()\n",
    "        self.fc = nn.Linear(10, 1)  # Linear layer with input size 10 and output size 1\n",
    "\n",
    "    def forward(self, x):\n",
    "        x = self.fc(x)\n",
    "        return x\n",
    "\n",
    "# Create an instance of the network\n",
    "model = SimpleNet()\n",
    "\n",
    "# Print the initial weights\n",
    "print(\"Initial weights:\", model.fc.weight)\n",
    "\n",
    "# Access the parameters\n",
    "parameters = model.parameters()\n",
    "\n",
    "# Assuming you want to modify the weights of the first neuron in the linear layer\n",
    "neuron_index = 0\n",
    "for param in parameters:\n",
    "    if param is model.fc.weight:\n",
    "        # Modify the weights of the first neuron\n",
    "        new_weights = torch.randn(param.size())  # Example: Initialize new weights randomly\n",
    "        param.data[neuron_index] = new_weights\n",
    "\n",
    "# Print the modified weights\n",
    "print(\"Modified weights:\", model.fc.weight)"
   ]
  }
 ],
 "metadata": {
  "kernelspec": {
   "display_name": "Python 3",
   "language": "python",
   "name": "python3"
  },
  "language_info": {
   "codemirror_mode": {
    "name": "ipython",
    "version": 3
   },
   "file_extension": ".py",
   "mimetype": "text/x-python",
   "name": "python",
   "nbconvert_exporter": "python",
   "pygments_lexer": "ipython3",
   "version": "3.10.12"
  }
 },
 "nbformat": 4,
 "nbformat_minor": 2
}
