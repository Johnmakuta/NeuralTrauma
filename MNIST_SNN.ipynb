{
 "cells": [
  {
   "cell_type": "code",
   "execution_count": 2,
   "metadata": {},
   "outputs": [],
   "source": [
    "# imports\n",
    "import snntorch as snn\n",
    "from snntorch import spikeplot as splt\n",
    "from snntorch import spikegen\n",
    "\n",
    "import torch\n",
    "import torch.nn as nn\n",
    "from torch.utils.data import DataLoader\n",
    "from torchvision import datasets, transforms\n",
    "\n",
    "import matplotlib.pyplot as plt\n",
    "import numpy as np\n",
    "import itertools"
   ]
  },
  {
   "cell_type": "code",
   "execution_count": 3,
   "metadata": {},
   "outputs": [
    {
     "name": "stderr",
     "output_type": "stream",
     "text": [
      "8.6%"
     ]
    },
    {
     "name": "stdout",
     "output_type": "stream",
     "text": [
      "Downloading http://yann.lecun.com/exdb/mnist/train-images-idx3-ubyte.gz\n",
      "Downloading http://yann.lecun.com/exdb/mnist/train-images-idx3-ubyte.gz to /tmp/data/mnist/MNIST/raw/train-images-idx3-ubyte.gz\n"
     ]
    },
    {
     "name": "stderr",
     "output_type": "stream",
     "text": [
      "100.0%\n"
     ]
    },
    {
     "name": "stdout",
     "output_type": "stream",
     "text": [
      "Extracting /tmp/data/mnist/MNIST/raw/train-images-idx3-ubyte.gz to /tmp/data/mnist/MNIST/raw\n",
      "\n",
      "Downloading http://yann.lecun.com/exdb/mnist/train-labels-idx1-ubyte.gz\n"
     ]
    },
    {
     "name": "stderr",
     "output_type": "stream",
     "text": [
      "100.0%\n",
      "49.7%"
     ]
    },
    {
     "name": "stdout",
     "output_type": "stream",
     "text": [
      "Downloading http://yann.lecun.com/exdb/mnist/train-labels-idx1-ubyte.gz to /tmp/data/mnist/MNIST/raw/train-labels-idx1-ubyte.gz\n",
      "Extracting /tmp/data/mnist/MNIST/raw/train-labels-idx1-ubyte.gz to /tmp/data/mnist/MNIST/raw\n",
      "\n",
      "Downloading http://yann.lecun.com/exdb/mnist/t10k-images-idx3-ubyte.gz\n",
      "Downloading http://yann.lecun.com/exdb/mnist/t10k-images-idx3-ubyte.gz to /tmp/data/mnist/MNIST/raw/t10k-images-idx3-ubyte.gz\n"
     ]
    },
    {
     "name": "stderr",
     "output_type": "stream",
     "text": [
      "100.0%\n",
      "100.0%\n"
     ]
    },
    {
     "name": "stdout",
     "output_type": "stream",
     "text": [
      "Extracting /tmp/data/mnist/MNIST/raw/t10k-images-idx3-ubyte.gz to /tmp/data/mnist/MNIST/raw\n",
      "\n",
      "Downloading http://yann.lecun.com/exdb/mnist/t10k-labels-idx1-ubyte.gz\n",
      "Downloading http://yann.lecun.com/exdb/mnist/t10k-labels-idx1-ubyte.gz to /tmp/data/mnist/MNIST/raw/t10k-labels-idx1-ubyte.gz\n",
      "Extracting /tmp/data/mnist/MNIST/raw/t10k-labels-idx1-ubyte.gz to /tmp/data/mnist/MNIST/raw\n",
      "\n"
     ]
    }
   ],
   "source": [
    "# dataloader arguments\n",
    "batch_size = 128\n",
    "data_path='/tmp/data/mnist'\n",
    "\n",
    "dtype = torch.float\n",
    "device = torch.device(\"cuda\") if torch.cuda.is_available() else torch.device(\"mps\") if torch.backends.mps.is_available() else torch.device(\"cpu\")\n",
    "\n",
    "# Define a transform\n",
    "transform = transforms.Compose([\n",
    "            transforms.Resize((28, 28)),\n",
    "            transforms.Grayscale(),\n",
    "            transforms.ToTensor(),\n",
    "            transforms.Normalize((0,), (1,))])\n",
    "\n",
    "mnist_train = datasets.MNIST(data_path, train=True, download=True, transform=transform)\n",
    "mnist_test = datasets.MNIST(data_path, train=False, download=True, transform=transform)\n",
    "\n",
    "# Create DataLoaders\n",
    "train_loader = DataLoader(mnist_train, batch_size=batch_size, shuffle=True, drop_last=True)\n",
    "test_loader = DataLoader(mnist_test, batch_size=batch_size, shuffle=True, drop_last=True)"
   ]
  },
  {
   "cell_type": "code",
   "execution_count": 4,
   "metadata": {},
   "outputs": [],
   "source": [
    "# Network Architecture\n",
    "num_inputs = 28*28\n",
    "num_hidden = 1000\n",
    "num_outputs = 10\n",
    "\n",
    "# Temporal Dynamics\n",
    "num_steps = 25\n",
    "beta = 0.70"
   ]
  },
  {
   "cell_type": "code",
   "execution_count": 5,
   "metadata": {},
   "outputs": [],
   "source": [
    "# Define Network\n",
    "class Net(nn.Module):\n",
    "    def __init__(self):\n",
    "        super().__init__()\n",
    "\n",
    "        # Initialize layers\n",
    "        self.fc1 = nn.Linear(num_inputs, num_hidden)\n",
    "        self.lif1 = snn.Leaky(beta=beta)\n",
    "        self.fc2 = nn.Linear(num_hidden, num_outputs)\n",
    "        self.lif2 = snn.Leaky(beta=beta)\n",
    "\n",
    "    def forward(self, x):\n",
    "\n",
    "        # Initialize hidden states at t=0\n",
    "        mem1 = self.lif1.init_leaky()\n",
    "        mem2 = self.lif2.init_leaky()\n",
    "\n",
    "        # Record the final layer\n",
    "        spk2_rec = []\n",
    "        mem2_rec = []\n",
    "\n",
    "        for step in range(num_steps):\n",
    "            cur1 = self.fc1(x)\n",
    "            spk1, mem1 = self.lif1(cur1, mem1)\n",
    "            cur2 = self.fc2(spk1)\n",
    "            spk2, mem2 = self.lif2(cur2, mem2)\n",
    "            spk2_rec.append(spk2)\n",
    "            mem2_rec.append(mem2)\n",
    "\n",
    "        return torch.stack(spk2_rec, dim=0), torch.stack(mem2_rec, dim=0)\n",
    "\n",
    "# Load the network onto CUDA if available\n",
    "net = Net().to(device)"
   ]
  },
  {
   "cell_type": "code",
   "execution_count": 6,
   "metadata": {},
   "outputs": [],
   "source": [
    "# pass data into the network, sum the spikes over time\n",
    "# and compare the neuron with the highest number of spikes\n",
    "# with the target\n",
    "\n",
    "def print_batch_accuracy(data, targets, train=False):\n",
    "    output, _ = net(data.view(batch_size, -1))\n",
    "    _, idx = output.sum(dim=0).max(1)\n",
    "    acc = np.mean((targets == idx).detach().cpu().numpy())\n",
    "\n",
    "    if train:\n",
    "        print(f\"Train set accuracy for a single minibatch: {acc*100:.2f}%\")\n",
    "    else:\n",
    "        print(f\"Test set accuracy for a single minibatch: {acc*100:.2f}%\")\n",
    "\n",
    "def train_printer(\n",
    "    data, targets, epoch,\n",
    "    counter, iter_counter,\n",
    "        loss_hist, test_loss_hist, test_data, test_targets):\n",
    "    print(f\"Epoch {epoch}, Iteration {iter_counter}\")\n",
    "    print(f\"Train Set Loss: {loss_hist[counter]:.2f}\")\n",
    "    print(f\"Test Set Loss: {test_loss_hist[counter]:.2f}\")\n",
    "    print_batch_accuracy(data, targets, train=True)\n",
    "    print_batch_accuracy(test_data, test_targets, train=False)\n",
    "    print(\"\\n\")"
   ]
  },
  {
   "cell_type": "code",
   "execution_count": 7,
   "metadata": {},
   "outputs": [],
   "source": [
    "loss = nn.CrossEntropyLoss()\n",
    "optimizer = torch.optim.Adam(net.parameters(), lr=5e-4, betas=(0.9, 0.999))"
   ]
  },
  {
   "cell_type": "code",
   "execution_count": 8,
   "metadata": {},
   "outputs": [
    {
     "name": "stdout",
     "output_type": "stream",
     "text": [
      "torch.Size([25, 128, 10])\n"
     ]
    }
   ],
   "source": [
    "data, targets = next(iter(train_loader))\n",
    "data = data.to(device)\n",
    "targets = targets.to(device)\n",
    "\n",
    "spk_rec, mem_rec = net(data.view(batch_size, -1))\n",
    "print(mem_rec.size())"
   ]
  },
  {
   "cell_type": "code",
   "execution_count": 9,
   "metadata": {},
   "outputs": [
    {
     "name": "stdout",
     "output_type": "stream",
     "text": [
      "Training loss: 57.971\n"
     ]
    }
   ],
   "source": [
    "# initialize the total loss value\n",
    "loss_val = torch.zeros((1), dtype=dtype, device=device)\n",
    "\n",
    "# sum loss at every step\n",
    "for step in range(num_steps):\n",
    "  loss_val += loss(mem_rec[step], targets)\n",
    "\n",
    "print(f\"Training loss: {loss_val.item():.3f}\")"
   ]
  },
  {
   "cell_type": "code",
   "execution_count": 10,
   "metadata": {},
   "outputs": [
    {
     "name": "stdout",
     "output_type": "stream",
     "text": [
      "Train set accuracy for a single minibatch: 8.59%\n"
     ]
    }
   ],
   "source": [
    "print_batch_accuracy(data, targets, train=True)"
   ]
  },
  {
   "cell_type": "code",
   "execution_count": 11,
   "metadata": {},
   "outputs": [],
   "source": [
    "# clear previously stored gradients\n",
    "optimizer.zero_grad()\n",
    "\n",
    "# calculate the gradients\n",
    "loss_val.backward()\n",
    "\n",
    "# weight update\n",
    "optimizer.step()"
   ]
  },
  {
   "cell_type": "code",
   "execution_count": 12,
   "metadata": {},
   "outputs": [
    {
     "name": "stdout",
     "output_type": "stream",
     "text": [
      "Training loss: 54.875\n",
      "Train set accuracy for a single minibatch: 8.59%\n"
     ]
    }
   ],
   "source": [
    "# calculate new network outputs using the same data\n",
    "spk_rec, mem_rec = net(data.view(batch_size, -1))\n",
    "\n",
    "# initialize the total loss value\n",
    "loss_val = torch.zeros((1), dtype=dtype, device=device)\n",
    "\n",
    "# sum loss at every step\n",
    "for step in range(num_steps):\n",
    "  loss_val += loss(mem_rec[step], targets)\n",
    "\n",
    "print(f\"Training loss: {loss_val.item():.3f}\")\n",
    "print_batch_accuracy(data, targets, train=True)"
   ]
  },
  {
   "cell_type": "code",
   "execution_count": 23,
   "metadata": {},
   "outputs": [
    {
     "name": "stdout",
     "output_type": "stream",
     "text": [
      "Epoch 0, Iteration 0\n",
      "Train Set Loss: 700.85\n",
      "Test Set Loss: 203.38\n",
      "Train set accuracy for a single minibatch: 91.41%\n",
      "Test set accuracy for a single minibatch: 82.03%\n",
      "\n",
      "\n",
      "Epoch 0, Iteration 50\n",
      "Train Set Loss: 19.11\n",
      "Test Set Loss: 5.43\n",
      "Train set accuracy for a single minibatch: 89.84%\n",
      "Test set accuracy for a single minibatch: 93.75%\n",
      "\n",
      "\n",
      "Epoch 0, Iteration 100\n",
      "Train Set Loss: 6.85\n",
      "Test Set Loss: 6.94\n",
      "Train set accuracy for a single minibatch: 94.53%\n",
      "Test set accuracy for a single minibatch: 96.09%\n",
      "\n",
      "\n",
      "Epoch 0, Iteration 150\n",
      "Train Set Loss: 6.06\n",
      "Test Set Loss: 11.10\n",
      "Train set accuracy for a single minibatch: 94.53%\n",
      "Test set accuracy for a single minibatch: 92.97%\n",
      "\n",
      "\n",
      "Epoch 0, Iteration 200\n",
      "Train Set Loss: 3.66\n",
      "Test Set Loss: 12.33\n",
      "Train set accuracy for a single minibatch: 96.88%\n",
      "Test set accuracy for a single minibatch: 91.41%\n",
      "\n",
      "\n",
      "Epoch 0, Iteration 250\n",
      "Train Set Loss: 4.55\n",
      "Test Set Loss: 2.09\n",
      "Train set accuracy for a single minibatch: 90.62%\n",
      "Test set accuracy for a single minibatch: 96.88%\n",
      "\n",
      "\n",
      "Epoch 0, Iteration 300\n",
      "Train Set Loss: 3.07\n",
      "Test Set Loss: 11.10\n",
      "Train set accuracy for a single minibatch: 97.66%\n",
      "Test set accuracy for a single minibatch: 92.19%\n",
      "\n",
      "\n",
      "Epoch 0, Iteration 350\n",
      "Train Set Loss: 9.17\n",
      "Test Set Loss: 11.32\n",
      "Train set accuracy for a single minibatch: 95.31%\n",
      "Test set accuracy for a single minibatch: 95.31%\n",
      "\n",
      "\n",
      "Epoch 0, Iteration 400\n",
      "Train Set Loss: 5.85\n",
      "Test Set Loss: 3.60\n",
      "Train set accuracy for a single minibatch: 93.75%\n",
      "Test set accuracy for a single minibatch: 96.88%\n",
      "\n",
      "\n",
      "Epoch 0, Iteration 450\n",
      "Train Set Loss: 3.32\n",
      "Test Set Loss: 9.25\n",
      "Train set accuracy for a single minibatch: 96.88%\n",
      "Test set accuracy for a single minibatch: 92.97%\n",
      "\n",
      "\n"
     ]
    }
   ],
   "source": [
    "# Train\n",
    "\n",
    "num_epochs = 1\n",
    "loss_hist = []\n",
    "test_loss_hist = []\n",
    "counter = 0\n",
    "\n",
    "# Outer training loop\n",
    "for epoch in range(num_epochs):\n",
    "    iter_counter = 0\n",
    "    train_batch = iter(train_loader)\n",
    "\n",
    "    # Minibatch training loop\n",
    "    for data, targets in train_batch:\n",
    "        data = data.to(device)\n",
    "        targets = targets.to(device)\n",
    "\n",
    "        # forward pass\n",
    "        net.train()\n",
    "        spk_rec, mem_rec = net(data.view(batch_size, -1))\n",
    "\n",
    "        # initialize the loss & sum over time\n",
    "        loss_val = torch.zeros((1), dtype=dtype, device=device)\n",
    "        for step in range(num_steps):\n",
    "            loss_val += loss(mem_rec[step], targets)\n",
    "\n",
    "        # Gradient calculation + weight update\n",
    "        optimizer.zero_grad()\n",
    "        loss_val.backward()\n",
    "        optimizer.step()\n",
    "\n",
    "        # Store loss history for future plotting\n",
    "        loss_hist.append(loss_val.item())\n",
    "\n",
    "        # Test set\n",
    "        with torch.no_grad():\n",
    "            net.eval()\n",
    "            test_data, test_targets = next(iter(test_loader))\n",
    "            test_data = test_data.to(device)\n",
    "            test_targets = test_targets.to(device)\n",
    "\n",
    "            # Test set forward pass\n",
    "            test_spk, test_mem = net(test_data.view(batch_size, -1))\n",
    "\n",
    "            # Test set loss\n",
    "            test_loss = torch.zeros((1), dtype=dtype, device=device)\n",
    "            for step in range(num_steps):\n",
    "                test_loss += loss(test_mem[step], test_targets)\n",
    "            test_loss_hist.append(test_loss.item())\n",
    "\n",
    "            # Print train/test loss/accuracy\n",
    "            if counter % 50 == 0:\n",
    "                train_printer(\n",
    "                    data, targets, epoch,\n",
    "                    counter, iter_counter,\n",
    "                    loss_hist, test_loss_hist,\n",
    "                    test_data, test_targets)\n",
    "            counter += 1\n",
    "            iter_counter +=1"
   ]
  },
  {
   "cell_type": "code",
   "execution_count": 14,
   "metadata": {},
   "outputs": [
    {
     "data": {
      "image/png": "[encoded data removed]",
      "text/plain": [
       "<Figure size 1000x500 with 1 Axes>"
      ]
     },
     "metadata": {},
     "output_type": "display_data"
    }
   ],
   "source": [
    "# Plot Loss\n",
    "fig = plt.figure(facecolor=\"w\", figsize=(10, 5))\n",
    "plt.plot(loss_hist)\n",
    "plt.plot(test_loss_hist)\n",
    "plt.title(\"Loss Curves\")\n",
    "plt.legend([\"Train Loss\", \"Test Loss\"])\n",
    "plt.xlabel(\"Iteration\")\n",
    "plt.ylabel(\"Loss\")\n",
    "plt.show()"
   ]
  },
  {
   "cell_type": "code",
   "execution_count": 43,
   "metadata": {},
   "outputs": [
    {
     "name": "stdout",
     "output_type": "stream",
     "text": [
      "Total correctly classified test set images: 6366/10000\n",
      "Test Set Accuracy: 63.66%\n"
     ]
    }
   ],
   "source": [
    "# Test Accuracy\n",
    "\n",
    "total = 0\n",
    "correct = 0\n",
    "\n",
    "# drop_last switched to False to keep all samples\n",
    "test_loader = DataLoader(mnist_test, batch_size=batch_size, shuffle=True, drop_last=False)\n",
    "\n",
    "with torch.no_grad():\n",
    "  net.eval()\n",
    "  for data, targets in test_loader:\n",
    "    data = data.to(device)\n",
    "    targets = targets.to(device)\n",
    "    \n",
    "    # forward pass\n",
    "    test_spk, _ = net(data.view(data.size(0), -1))\n",
    "\n",
    "    # calculate total accuracy\n",
    "    _, predicted = test_spk.sum(dim=0).max(1)\n",
    "    total += targets.size(0)\n",
    "    correct += (predicted == targets).sum().item()\n",
    "\n",
    "print(f\"Total correctly classified test set images: {correct}/{total}\")\n",
    "print(f\"Test Set Accuracy: {100 * correct / total:.2f}%\")"
   ]
  },
  {
   "cell_type": "code",
   "execution_count": 16,
   "metadata": {},
   "outputs": [],
   "source": [
    "torch.save(net.state_dict(), 'MNIST_SNN.pth')"
   ]
  },
  {
   "cell_type": "code",
   "execution_count": 25,
   "metadata": {},
   "outputs": [
    {
     "name": "stdout",
     "output_type": "stream",
     "text": [
      "Net Parameters:\n",
      "Net(\n",
      "  (fc1): Linear(in_features=784, out_features=1000, bias=True)\n",
      "  (lif1): Leaky()\n",
      "  (fc2): Linear(in_features=1000, out_features=10, bias=True)\n",
      "  (lif2): Leaky()\n",
      ")\n",
      "Net First Layer Parameters:\n",
      "Linear(in_features=784, out_features=1000, bias=True)\n"
     ]
    }
   ],
   "source": [
    "print(f\"Net Parameters:\")\n",
    "print(net)\n",
    "\n",
    "print(f\"Net First Layer Parameters:\")\n",
    "print(net.fc1)"
   ]
  },
  {
   "cell_type": "code",
   "execution_count": 44,
   "metadata": {},
   "outputs": [
    {
     "name": "stdout",
     "output_type": "stream",
     "text": [
      "Initial weights: Parameter containing:\n",
      "tensor([[ 2.0512,  0.5744, -1.9530,  ...,  0.5096,  1.5722, -0.3315],\n",
      "        [-0.0129, -0.0069,  0.0354,  ..., -0.0322,  0.0141,  0.0338],\n",
      "        [ 0.0325,  0.0050, -0.0124,  ..., -0.0054, -0.0287,  0.0202],\n",
      "        ...,\n",
      "        [ 0.0247,  0.0329, -0.0284,  ...,  0.0091, -0.0173,  0.0355],\n",
      "        [ 0.0318, -0.0346, -0.0317,  ...,  0.0135, -0.0146,  0.0097],\n",
      "        [ 0.1861,  0.4190, -0.6578,  ...,  1.0619,  0.2682, -0.6024]],\n",
      "       device='cuda:0', requires_grad=True)\n",
      "Modified weights: Parameter containing:\n",
      "tensor([[ 2.0512,  0.5744, -1.9530,  ...,  0.5096,  1.5722, -0.3315],\n",
      "        [-0.3175, -0.0470,  0.3751,  ..., -1.7433, -0.9690, -0.3680],\n",
      "        [ 0.0325,  0.0050, -0.0124,  ..., -0.0054, -0.0287,  0.0202],\n",
      "        ...,\n",
      "        [ 0.0247,  0.0329, -0.0284,  ...,  0.0091, -0.0173,  0.0355],\n",
      "        [ 0.0318, -0.0346, -0.0317,  ...,  0.0135, -0.0146,  0.0097],\n",
      "        [ 0.1861,  0.4190, -0.6578,  ...,  1.0619,  0.2682, -0.6024]],\n",
      "       device='cuda:0', requires_grad=True)\n",
      "Size of Weights:  torch.Size([1000, 784])\n"
     ]
    }
   ],
   "source": [
    "# Print the initial weights\n",
    "print(\"Initial weights:\", net.fc1.weight)\n",
    "\n",
    "# Access the parameters\n",
    "parameters = net.parameters()\n",
    "\n",
    "# Assuming you want to modify the weights of the first neuron in the linear layer\n",
    "neuron_index = 1    # 0 to 999\n",
    "for param in parameters:\n",
    "    if param is net.fc1.weight:\n",
    "        # Modify the weights of the first neuron\n",
    "        new_weights = torch.randn(param.size(1))  # Example: Initialize new weights randomly\n",
    "        param.data[neuron_index] = new_weights\n",
    "\n",
    "# Print the modified weights\n",
    "print(\"Modified weights:\", net.fc1.weight)\n",
    "print(\"Size of Weights: \", net.fc1.weight.size())"
   ]
  },
  {
   "cell_type": "code",
   "execution_count": 35,
   "metadata": {},
   "outputs": [
    {
     "name": "stdout",
     "output_type": "stream",
     "text": [
      "Initial weights: Parameter containing:\n",
      "tensor([[-0.0255,  0.0398, -0.0234,  ..., -0.0399,  0.0409, -0.0981],\n",
      "        [-0.0098,  0.0288, -0.0694,  ...,  0.0386, -0.0479, -0.0439],\n",
      "        [-0.0618,  0.0317, -0.0572,  ..., -0.0483,  0.0360, -0.0632],\n",
      "        ...,\n",
      "        [-0.0498, -0.0387, -0.0365,  ...,  0.0042, -0.0258, -0.0543],\n",
      "        [-0.0387,  0.0197, -0.0852,  ..., -0.0397,  0.0130, -0.1450],\n",
      "        [ 0.0578, -0.0031,  0.0285,  ..., -0.0380, -0.0362,  0.0638]],\n",
      "       device='cuda:0', requires_grad=True)\n",
      "Modified weights: Parameter containing:\n",
      "tensor([[-0.0255,  0.0398, -0.0234,  ..., -0.0399,  0.0409, -0.0981],\n",
      "        [-0.0098,  0.0288, -0.0694,  ...,  0.0386, -0.0479, -0.0439],\n",
      "        [-0.0618,  0.0317, -0.0572,  ..., -0.0483,  0.0360, -0.0632],\n",
      "        ...,\n",
      "        [-0.0498, -0.0387, -0.0365,  ...,  0.0042, -0.0258, -0.0543],\n",
      "        [-0.0387,  0.0197, -0.0852,  ..., -0.0397,  0.0130, -0.1450],\n",
      "        [ 0.0578, -0.0031,  0.0285,  ..., -0.0380, -0.0362,  0.0638]],\n",
      "       device='cuda:0', requires_grad=True)\n",
      "Size of Weights:  torch.Size([10, 1000])\n"
     ]
    }
   ],
   "source": [
    "# Print the initial weights\n",
    "print(\"Initial weights:\", net.fc2.weight)\n",
    "\n",
    "# Access the parameters\n",
    "parameters = net.parameters()\n",
    "\n",
    "# Assuming you want to modify the weights of the first neuron in the linear layer\n",
    "neuron_index = 4     # 0 to 9\n",
    "for param in parameters:\n",
    "    if param is net.fc2.weight:\n",
    "        # Modify the weights of the first neuron\n",
    "        new_weights = torch.randn(param.size(1))  # Example: Initialize new weights randomly\n",
    "        param.data[neuron_index] = new_weights\n",
    "\n",
    "# Print the modified weights\n",
    "print(\"Modified weights:\", net.fc2.weight)\n",
    "print(\"Size of Weights: \", net.fc2.weight.size())"
   ]
  },
  {
   "cell_type": "code",
   "execution_count": 20,
   "metadata": {},
   "outputs": [
    {
     "name": "stdout",
     "output_type": "stream",
     "text": [
      "Initial weights: Parameter containing:\n",
      "tensor([[ 0.1161,  0.2124, -0.1982,  0.1422, -0.2248, -0.0107,  0.1986, -0.2937,\n",
      "          0.0033,  0.1775]], requires_grad=True)\n",
      "Modified weights: Parameter containing:\n",
      "tensor([[ 1.2624,  0.4253,  1.2957,  0.3380,  0.3385, -0.1398,  0.0859,  1.2952,\n",
      "          0.2880, -1.0417]], requires_grad=True)\n"
     ]
    }
   ],
   "source": [
    "import torch\n",
    "import torch.nn as nn\n",
    "\n",
    "# Define a simple neural network\n",
    "class SimpleNet(nn.Module):\n",
    "    def __init__(self):\n",
    "        super(SimpleNet, self).__init__()\n",
    "        self.fc = nn.Linear(10, 1)  # Linear layer with input size 10 and output size 1\n",
    "\n",
    "    def forward(self, x):\n",
    "        x = self.fc(x)\n",
    "        return x\n",
    "\n",
    "# Create an instance of the network\n",
    "model = SimpleNet()\n",
    "\n",
    "# Print the initial weights\n",
    "print(\"Initial weights:\", model.fc.weight)\n",
    "\n",
    "# Access the parameters\n",
    "parameters = model.parameters()\n",
    "\n",
    "# Assuming you want to modify the weights of the first neuron in the linear layer\n",
    "neuron_index = 0\n",
    "for param in parameters:\n",
    "    if param is model.fc.weight:\n",
    "        # Modify the weights of the first neuron\n",
    "        new_weights = torch.randn(param.size())  # Example: Initialize new weights randomly\n",
    "        param.data[neuron_index] = new_weights\n",
    "\n",
    "# Print the modified weights\n",
    "print(\"Modified weights:\", model.fc.weight)"
   ]
  }
 ],
 "metadata": {
  "kernelspec": {
   "display_name": "Python 3",
   "language": "python",
   "name": "python3"
  },
  "language_info": {
   "codemirror_mode": {
    "name": "ipython",
    "version": 3
   },
   "file_extension": ".py",
   "mimetype": "text/x-python",
   "name": "python",
   "nbconvert_exporter": "python",
   "pygments_lexer": "ipython3",
   "version": "3.10.12"
  }
 },
 "nbformat": 4,
 "nbformat_minor": 2
}
